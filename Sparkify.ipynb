{
 "cells": [
  {
   "cell_type": "markdown",
   "metadata": {},
   "source": [
    "# Sparkify Project Workspace\n",
    "This workspace contains a tiny subset (128MB) of the full dataset available (12GB). Feel free to use this workspace to build your project, or to explore a smaller subset with Spark before deploying your cluster on the cloud. Instructions for setting up your Spark cluster is included in the last lesson of the Extracurricular Spark Course content.\n",
    "\n",
    "You can follow the steps below to guide your data analysis and model building portion of this project."
   ]
  },
  {
   "cell_type": "code",
   "execution_count": 253,
   "metadata": {},
   "outputs": [],
   "source": [
    "# import libraries\n",
    "from pyspark.sql import SparkSession\n",
    "import pyspark.sql.functions as F\n",
    "from pyspark.sql.types import IntegerType\n",
    "import matplotlib.pyplot as plt\n",
    "import seaborn as sns\n",
    "from pyspark.sql.window import Window\n",
    "%matplotlib inline"
   ]
  },
  {
   "cell_type": "code",
   "execution_count": 254,
   "metadata": {},
   "outputs": [],
   "source": [
    "# create a Spark session\n",
    "# change this if it runs in a spark cluster\n",
    "spark = SparkSession \\\n",
    ".builder \\\n",
    ".master('local') \\\n",
    ".appName('sparkify') \\\n",
    ".getOrCreate()"
   ]
  },
  {
   "cell_type": "markdown",
   "metadata": {},
   "source": [
    "# Load and Clean Dataset\n",
    "In this workspace, the mini-dataset file is `mini_sparkify_event_data.json`. Load and clean the dataset, checking for invalid or missing data - for example, records without userids or sessionids. "
   ]
  },
  {
   "cell_type": "code",
   "execution_count": 255,
   "metadata": {},
   "outputs": [],
   "source": [
    "data_path = './mini_sparkify_event_data.json'\n",
    "df = spark.read.json(data_path)"
   ]
  },
  {
   "cell_type": "code",
   "execution_count": 256,
   "metadata": {},
   "outputs": [
    {
     "name": "stdout",
     "output_type": "stream",
     "text": [
      "root\n",
      " |-- artist: string (nullable = true)\n",
      " |-- auth: string (nullable = true)\n",
      " |-- firstName: string (nullable = true)\n",
      " |-- gender: string (nullable = true)\n",
      " |-- itemInSession: long (nullable = true)\n",
      " |-- lastName: string (nullable = true)\n",
      " |-- length: double (nullable = true)\n",
      " |-- level: string (nullable = true)\n",
      " |-- location: string (nullable = true)\n",
      " |-- method: string (nullable = true)\n",
      " |-- page: string (nullable = true)\n",
      " |-- registration: long (nullable = true)\n",
      " |-- sessionId: long (nullable = true)\n",
      " |-- song: string (nullable = true)\n",
      " |-- status: long (nullable = true)\n",
      " |-- ts: long (nullable = true)\n",
      " |-- userAgent: string (nullable = true)\n",
      " |-- userId: string (nullable = true)\n",
      "\n"
     ]
    }
   ],
   "source": [
    "# check the schema of data\n",
    "df.printSchema()"
   ]
  },
  {
   "cell_type": "code",
   "execution_count": 257,
   "metadata": {},
   "outputs": [
    {
     "name": "stdout",
     "output_type": "stream",
     "text": [
      "+----------------+---------+---------+------+-------------+--------+---------+-----+--------------------+------+--------+-------------+---------+--------------------+------+-------------+--------------------+------+\n",
      "|          artist|     auth|firstName|gender|itemInSession|lastName|   length|level|            location|method|    page| registration|sessionId|                song|status|           ts|           userAgent|userId|\n",
      "+----------------+---------+---------+------+-------------+--------+---------+-----+--------------------+------+--------+-------------+---------+--------------------+------+-------------+--------------------+------+\n",
      "|  Martha Tilston|Logged In|    Colin|     M|           50| Freeman|277.89016| paid|     Bakersfield, CA|   PUT|NextSong|1538173362000|       29|           Rockpools|   200|1538352117000|Mozilla/5.0 (Wind...|    30|\n",
      "|Five Iron Frenzy|Logged In|    Micah|     M|           79|    Long|236.09424| free|Boston-Cambridge-...|   PUT|NextSong|1538331630000|        8|              Canada|   200|1538352180000|\"Mozilla/5.0 (Win...|     9|\n",
      "|    Adam Lambert|Logged In|    Colin|     M|           51| Freeman| 282.8273| paid|     Bakersfield, CA|   PUT|NextSong|1538173362000|       29|   Time For Miracles|   200|1538352394000|Mozilla/5.0 (Wind...|    30|\n",
      "|          Enigma|Logged In|    Micah|     M|           80|    Long|262.71302| free|Boston-Cambridge-...|   PUT|NextSong|1538331630000|        8|Knocking On Forbi...|   200|1538352416000|\"Mozilla/5.0 (Win...|     9|\n",
      "|       Daft Punk|Logged In|    Colin|     M|           52| Freeman|223.60771| paid|     Bakersfield, CA|   PUT|NextSong|1538173362000|       29|Harder Better Fas...|   200|1538352676000|Mozilla/5.0 (Wind...|    30|\n",
      "+----------------+---------+---------+------+-------------+--------+---------+-----+--------------------+------+--------+-------------+---------+--------------------+------+-------------+--------------------+------+\n",
      "only showing top 5 rows\n",
      "\n"
     ]
    }
   ],
   "source": [
    "# a glimpse of data\n",
    "df.show(5)"
   ]
  },
  {
   "cell_type": "code",
   "execution_count": 258,
   "metadata": {},
   "outputs": [
    {
     "name": "stdout",
     "output_type": "stream",
     "text": [
      "+-------------------+-------------------+\n",
      "|  registration_date|           log_date|\n",
      "+-------------------+-------------------+\n",
      "|2018-09-28 22:22:42|2018-10-01 00:01:57|\n",
      "|2018-09-30 18:20:30|2018-10-01 00:03:00|\n",
      "|2018-09-28 22:22:42|2018-10-01 00:06:34|\n",
      "|2018-09-30 18:20:30|2018-10-01 00:06:56|\n",
      "|2018-09-28 22:22:42|2018-10-01 00:11:16|\n",
      "+-------------------+-------------------+\n",
      "only showing top 5 rows\n",
      "\n"
     ]
    }
   ],
   "source": [
    "# convert registration and ts into timestamp\n",
    "df = df.withColumn('registration_date', F.to_timestamp(df.registration/1000))\n",
    "df = df.withColumn('log_date', F.to_timestamp(df.ts/1000))\n",
    "df.select('registration_date', 'log_date').show(5)"
   ]
  },
  {
   "cell_type": "code",
   "execution_count": 259,
   "metadata": {},
   "outputs": [
    {
     "name": "stdout",
     "output_type": "stream",
     "text": [
      "number of records: 286500\n",
      "number of records with no user ID: 8346\n",
      "number of records with no session ID: 0\n",
      "number of records with illegal gender: 0\n",
      "number of records with length <= 0: 0\n",
      "registration date range from 2018-03-18 13:44:35 to 2018-11-26 15:49:14\n",
      "log date range from 2018-10-01 00:01:57 to 2018-12-03 01:11:16\n"
     ]
    }
   ],
   "source": [
    "num_of_records = df.count()\n",
    "num_of_no_userid = df.where(\"userId is null or userId == ''\").count()\n",
    "num_of_no_sessid = df.where(\"sessionId is null or sessionId == ''\").count()\n",
    "num_of_illegal_gender = df.where(\"gender <> 'M' and gender <> 'F'\").count()\n",
    "num_of_illegal_length = df.where('length <= 0').count()\n",
    "max_registration_date = df.agg({'registration_date': 'max'}).collect()[0]['max(registration_date)']\n",
    "min_registration_date = df.agg({'registration_date': 'min'}).collect()[0]['min(registration_date)']\n",
    "max_log_date = df.agg({'log_date': 'max'}).collect()[0]['max(log_date)']\n",
    "min_log_date = df.agg({'log_date': 'min'}).collect()[0]['min(log_date)']\n",
    "\n",
    "print('number of records: {}'.format(num_of_records))\n",
    "print('number of records with no user ID: {}'.format(num_of_no_userid))\n",
    "print('number of records with no session ID: {}'.format(num_of_no_sessid))\n",
    "print('number of records with illegal gender: {}'.format(num_of_illegal_gender))\n",
    "print('number of records with length <= 0: {}'.format(num_of_illegal_length))\n",
    "print('registration date range from {} to {}'.format(min_registration_date, max_registration_date))\n",
    "print('log date range from {} to {}'.format(min_log_date, max_log_date))"
   ]
  },
  {
   "cell_type": "code",
   "execution_count": 260,
   "metadata": {},
   "outputs": [
    {
     "name": "stdout",
     "output_type": "stream",
     "text": [
      "+-------+-----------------+\n",
      "|summary|           length|\n",
      "+-------+-----------------+\n",
      "|  count|           228108|\n",
      "|   mean|249.1171819778349|\n",
      "| stddev|99.23517921058327|\n",
      "|    min|          0.78322|\n",
      "|    max|       3024.66567|\n",
      "+-------+-----------------+\n",
      "\n"
     ]
    }
   ],
   "source": [
    "# it seems that lengths have no abnormals\n",
    "df_cleaned.describe(['length']).show()"
   ]
  },
  {
   "cell_type": "code",
   "execution_count": 261,
   "metadata": {},
   "outputs": [
    {
     "data": {
      "text/plain": [
       "278154"
      ]
     },
     "execution_count": 261,
     "metadata": {},
     "output_type": "execute_result"
    }
   ],
   "source": [
    "# based on the checking above, records with no user ID will be cleaned\n",
    "# these records are likely guests, we can simply ignore them\n",
    "df_cleaned = df.where(\"userId is not null and userId <> ''\")\n",
    "df_cleaned.count()"
   ]
  },
  {
   "cell_type": "code",
   "execution_count": 262,
   "metadata": {},
   "outputs": [
    {
     "name": "stdout",
     "output_type": "stream",
     "text": [
      "+-----------------------+------+\n",
      "|address                |area  |\n",
      "+-----------------------+------+\n",
      "|Bakersfield            | CA   |\n",
      "|Boston-Cambridge-Newton| MA-NH|\n",
      "|Bakersfield            | CA   |\n",
      "|Boston-Cambridge-Newton| MA-NH|\n",
      "|Bakersfield            | CA   |\n",
      "+-----------------------+------+\n",
      "only showing top 5 rows\n",
      "\n"
     ]
    }
   ],
   "source": [
    "# location needs to split into address and area\n",
    "split_loc = F.split(df_cleaned['location'], ',')\n",
    "df_cleaned = df_cleaned.withColumn('address', split_loc.getItem(0))\n",
    "df_cleaned = df_cleaned.withColumn('area', split_loc.getItem(1))\n",
    "df_cleaned.select(['address', 'area']).show(5, False)"
   ]
  },
  {
   "cell_type": "code",
   "execution_count": 263,
   "metadata": {},
   "outputs": [],
   "source": [
    "# extract month, day, weekday, weekend, hour from both registration date and log date\n",
    "def extract_date_info(df, prefix, field):\n",
    "    df = df.withColumn('{}_month'.format(prefix), F.date_format(field, 'M').cast(IntegerType()))\n",
    "    df = df.withColumn('{}_day'.format(prefix), F.date_format(field, 'd').cast(IntegerType()))\n",
    "    df = df.withColumn('{}_weekday'.format(prefix), F.date_format(field, 'u').cast(IntegerType()))\n",
    "    df = df.withColumn('{}_hour'.format(prefix), F.date_format(field, 'H').cast(IntegerType()))\n",
    "    extract_weekend = F.udf(lambda weekday: 1 if weekday == 6 or weekday == 7 else 0, IntegerType())\n",
    "    df = df.withColumn('{}_weekend'.format(prefix), extract_weekend('{}_weekday'.format(prefix)))\n",
    "    return df\n",
    "    \n",
    "df_cleaned = extract_date_info(df_cleaned, 'reg', 'registration_date')\n",
    "df_cleaned = extract_date_info(df_cleaned, 'log', 'log_date')\n",
    "# df_cleaned.select('reg_month', 'reg_day', 'reg_weekday', 'reg_hour', 'reg_weekend').show()\n",
    "# df_cleaned.select('log_month', 'log_day', 'log_weekday', 'log_hour', 'log_weekend').show()"
   ]
  },
  {
   "cell_type": "code",
   "execution_count": 264,
   "metadata": {},
   "outputs": [
    {
     "name": "stdout",
     "output_type": "stream",
     "text": [
      "root\n",
      " |-- artist: string (nullable = true)\n",
      " |-- auth: string (nullable = true)\n",
      " |-- firstName: string (nullable = true)\n",
      " |-- gender: string (nullable = true)\n",
      " |-- itemInSession: long (nullable = true)\n",
      " |-- lastName: string (nullable = true)\n",
      " |-- length: double (nullable = true)\n",
      " |-- level: string (nullable = true)\n",
      " |-- location: string (nullable = true)\n",
      " |-- method: string (nullable = true)\n",
      " |-- page: string (nullable = true)\n",
      " |-- registration: long (nullable = true)\n",
      " |-- sessionId: long (nullable = true)\n",
      " |-- song: string (nullable = true)\n",
      " |-- status: long (nullable = true)\n",
      " |-- ts: long (nullable = true)\n",
      " |-- userAgent: string (nullable = true)\n",
      " |-- userId: string (nullable = true)\n",
      " |-- registration_date: timestamp (nullable = true)\n",
      " |-- log_date: timestamp (nullable = true)\n",
      " |-- address: string (nullable = true)\n",
      " |-- area: string (nullable = true)\n",
      " |-- reg_month: integer (nullable = true)\n",
      " |-- reg_day: integer (nullable = true)\n",
      " |-- reg_weekday: integer (nullable = true)\n",
      " |-- reg_hour: integer (nullable = true)\n",
      " |-- reg_weekend: integer (nullable = true)\n",
      " |-- log_month: integer (nullable = true)\n",
      " |-- log_day: integer (nullable = true)\n",
      " |-- log_weekday: integer (nullable = true)\n",
      " |-- log_hour: integer (nullable = true)\n",
      " |-- log_weekend: integer (nullable = true)\n",
      "\n"
     ]
    }
   ],
   "source": [
    "df_cleaned.printSchema()"
   ]
  },
  {
   "cell_type": "markdown",
   "metadata": {},
   "source": [
    "# Exploratory Data Analysis\n",
    "When you're working with the full dataset, perform EDA by loading a small subset of the data and doing basic manipulations within Spark. In this workspace, you are already provided a small subset of data you can explore.\n",
    "\n",
    "### Define Churn\n",
    "\n",
    "Once you've done some preliminary analysis, create a column `Churn` to use as the label for your model. I suggest using the `Cancellation Confirmation` events to define your churn, which happen for both paid and free users. As a bonus task, you can also look into the `Downgrade` events.\n",
    "\n",
    "### Explore Data\n",
    "Once you've defined churn, perform some exploratory data analysis to observe the behavior for users who stayed vs users who churned. You can start by exploring aggregates on these two groups of users, observing how much of a specific action they experienced per a certain time unit or number of songs played."
   ]
  },
  {
   "cell_type": "code",
   "execution_count": 265,
   "metadata": {},
   "outputs": [
    {
     "name": "stdout",
     "output_type": "stream",
     "text": [
      "root\n",
      " |-- artist: string (nullable = true)\n",
      " |-- auth: string (nullable = true)\n",
      " |-- firstName: string (nullable = true)\n",
      " |-- gender: string (nullable = true)\n",
      " |-- itemInSession: long (nullable = true)\n",
      " |-- lastName: string (nullable = true)\n",
      " |-- length: double (nullable = true)\n",
      " |-- level: string (nullable = true)\n",
      " |-- location: string (nullable = true)\n",
      " |-- method: string (nullable = true)\n",
      " |-- page: string (nullable = true)\n",
      " |-- registration: long (nullable = true)\n",
      " |-- sessionId: long (nullable = true)\n",
      " |-- song: string (nullable = true)\n",
      " |-- status: long (nullable = true)\n",
      " |-- ts: long (nullable = true)\n",
      " |-- userAgent: string (nullable = true)\n",
      " |-- userId: string (nullable = true)\n",
      " |-- registration_date: timestamp (nullable = true)\n",
      " |-- log_date: timestamp (nullable = true)\n",
      " |-- address: string (nullable = true)\n",
      " |-- area: string (nullable = true)\n",
      " |-- reg_month: integer (nullable = true)\n",
      " |-- reg_day: integer (nullable = true)\n",
      " |-- reg_weekday: integer (nullable = true)\n",
      " |-- reg_hour: integer (nullable = true)\n",
      " |-- reg_weekend: integer (nullable = true)\n",
      " |-- log_month: integer (nullable = true)\n",
      " |-- log_day: integer (nullable = true)\n",
      " |-- log_weekday: integer (nullable = true)\n",
      " |-- log_hour: integer (nullable = true)\n",
      " |-- log_weekend: integer (nullable = true)\n",
      "\n"
     ]
    }
   ],
   "source": [
    "df_cleaned.printSchema()"
   ]
  },
  {
   "cell_type": "code",
   "execution_count": 266,
   "metadata": {},
   "outputs": [
    {
     "data": {
      "text/plain": [
       "<matplotlib.axes._subplots.AxesSubplot at 0x7f0e57ce4860>"
      ]
     },
     "execution_count": 266,
     "metadata": {},
     "output_type": "execute_result"
    },
    {
     "data": {
      "image/png": "[encoded data removed]",
      "text/plain": [
       "<matplotlib.figure.Figure at 0x7f0e58f039b0>"
      ]
     },
     "metadata": {
      "needs_background": "light"
     },
     "output_type": "display_data"
    },
    {
     "data": {
      "image/png": "[encoded data removed]",
      "text/plain": [
       "<matplotlib.figure.Figure at 0x7f0e57dd25f8>"
      ]
     },
     "metadata": {
      "needs_background": "light"
     },
     "output_type": "display_data"
    }
   ],
   "source": [
    "# there are more male audience than females, but females generates more records\n",
    "gender_count = df_cleaned.dropDuplicates(['userId']).groupBy(df_cleaned.gender).count().toPandas()\n",
    "gender_count = gender_count.set_index('gender')\n",
    "gender_count.plot(kind='bar')\n",
    "\n",
    "gender_listens = df_cleaned.groupBy(df_cleaned.gender).count().toPandas()\n",
    "gender_listens = gender_listens.set_index('gender')\n",
    "gender_listens.plot(kind='bar')"
   ]
  },
  {
   "cell_type": "code",
   "execution_count": 267,
   "metadata": {},
   "outputs": [
    {
     "data": {
      "text/plain": [
       "<matplotlib.axes._subplots.AxesSubplot at 0x7f0e578956a0>"
      ]
     },
     "execution_count": 267,
     "metadata": {},
     "output_type": "execute_result"
    },
    {
     "data": {
      "image/png": "[encoded data removed]",
      "text/plain": [
       "<matplotlib.figure.Figure at 0x7f0e57a6ddd8>"
      ]
     },
     "metadata": {
      "needs_background": "light"
     },
     "output_type": "display_data"
    },
    {
     "data": {
      "image/png": "[encoded data removed]",
      "text/plain": [
       "<matplotlib.figure.Figure at 0x7f0e57a6dd68>"
      ]
     },
     "metadata": {
      "needs_background": "light"
     },
     "output_type": "display_data"
    }
   ],
   "source": [
    "# which area is more active? California state outweighs a lot\n",
    "area_count = df_cleaned.groupBy(df_cleaned.area).count().orderBy(F.desc('count')).limit(10).toPandas()\n",
    "area_count = area_count.set_index('area')\n",
    "area_count.plot(kind='bar')\n",
    "\n",
    "# # which address is more active? Los Angeles-Long Beach-Anaheim and New York-Newark-Jersey City outweighs a lot\n",
    "address_count = df_cleaned.groupBy(df_cleaned.address).count().orderBy(F.desc('count')).limit(10).toPandas()\n",
    "address_count = address_count.set_index('address')\n",
    "address_count.plot(kind='bar')"
   ]
  },
  {
   "cell_type": "code",
   "execution_count": 268,
   "metadata": {},
   "outputs": [
    {
     "data": {
      "text/plain": [
       "<matplotlib.axes._subplots.AxesSubplot at 0x7f0e57687278>"
      ]
     },
     "execution_count": 268,
     "metadata": {},
     "output_type": "execute_result"
    },
    {
     "data": {
      "image/png": "[encoded data removed]",
      "text/plain": [
       "<matplotlib.figure.Figure at 0x7f0e57a7bba8>"
      ]
     },
     "metadata": {
      "needs_background": "light"
     },
     "output_type": "display_data"
    }
   ],
   "source": [
    "# page events statistics, 'downgrade' and 'cancellation confirmation' should be put focus on\n",
    "page_count = df_cleaned.groupBy(df_cleaned.page).count().orderBy(desc('count')).toPandas()\n",
    "page_count = page_count.set_index('page')\n",
    "page_count.plot(kind='bar')"
   ]
  },
  {
   "cell_type": "code",
   "execution_count": 269,
   "metadata": {},
   "outputs": [
    {
     "data": {
      "text/plain": [
       "<matplotlib.axes._subplots.AxesSubplot at 0x7f0e5758feb8>"
      ]
     },
     "execution_count": 269,
     "metadata": {},
     "output_type": "execute_result"
    },
    {
     "data": {
      "image/png": "[encoded data removed]",
      "text/plain": [
       "<matplotlib.figure.Figure at 0x7f0e576a3780>"
      ]
     },
     "metadata": {
      "needs_background": "light"
     },
     "output_type": "display_data"
    }
   ],
   "source": [
    "# paid and free users count, paid users outweighs free users\n",
    "level_count = df_cleaned.groupBy(df_cleaned.level).count().orderBy(F.desc('count')).toPandas()\n",
    "level_count = level_count.set_index('level')\n",
    "level_count.plot(kind='bar')"
   ]
  },
  {
   "cell_type": "code",
   "execution_count": 270,
   "metadata": {},
   "outputs": [],
   "source": [
    "related_events = ['Downgrade', 'Submit Downgrade', 'Cancellation Confirmation']\n",
    "mark_churn_events = F.udf(lambda page: 1 if page in related_events else 0, IntegerType())\n",
    "df_cleaned = df_cleaned.withColumn('churn', mark_churn_events('page'))"
   ]
  },
  {
   "cell_type": "code",
   "execution_count": 271,
   "metadata": {},
   "outputs": [
    {
     "name": "stdout",
     "output_type": "stream",
     "text": [
      "root\n",
      " |-- artist: string (nullable = true)\n",
      " |-- auth: string (nullable = true)\n",
      " |-- firstName: string (nullable = true)\n",
      " |-- gender: string (nullable = true)\n",
      " |-- itemInSession: long (nullable = true)\n",
      " |-- lastName: string (nullable = true)\n",
      " |-- length: double (nullable = true)\n",
      " |-- level: string (nullable = true)\n",
      " |-- location: string (nullable = true)\n",
      " |-- method: string (nullable = true)\n",
      " |-- page: string (nullable = true)\n",
      " |-- registration: long (nullable = true)\n",
      " |-- sessionId: long (nullable = true)\n",
      " |-- song: string (nullable = true)\n",
      " |-- status: long (nullable = true)\n",
      " |-- ts: long (nullable = true)\n",
      " |-- userAgent: string (nullable = true)\n",
      " |-- userId: string (nullable = true)\n",
      " |-- registration_date: timestamp (nullable = true)\n",
      " |-- log_date: timestamp (nullable = true)\n",
      " |-- address: string (nullable = true)\n",
      " |-- area: string (nullable = true)\n",
      " |-- reg_month: integer (nullable = true)\n",
      " |-- reg_day: integer (nullable = true)\n",
      " |-- reg_weekday: integer (nullable = true)\n",
      " |-- reg_hour: integer (nullable = true)\n",
      " |-- reg_weekend: integer (nullable = true)\n",
      " |-- log_month: integer (nullable = true)\n",
      " |-- log_day: integer (nullable = true)\n",
      " |-- log_weekday: integer (nullable = true)\n",
      " |-- log_hour: integer (nullable = true)\n",
      " |-- log_weekend: integer (nullable = true)\n",
      " |-- churn: integer (nullable = true)\n",
      "\n"
     ]
    }
   ],
   "source": [
    "df_cleaned.printSchema()"
   ]
  },
  {
   "cell_type": "code",
   "execution_count": 272,
   "metadata": {},
   "outputs": [
    {
     "data": {
      "text/plain": [
       "<matplotlib.axes._subplots.AxesSubplot at 0x7f0e57cd6828>"
      ]
     },
     "execution_count": 272,
     "metadata": {},
     "output_type": "execute_result"
    },
    {
     "data": {
      "image/png": "[encoded data removed]",
      "text/plain": [
       "<matplotlib.figure.Figure at 0x7f0e56c56860>"
      ]
     },
     "metadata": {
      "needs_background": "light"
     },
     "output_type": "display_data"
    },
    {
     "data": {
      "image/png": "[encoded data removed]",
      "text/plain": [
       "<matplotlib.figure.Figure at 0x7f0e57ccb0f0>"
      ]
     },
     "metadata": {
      "needs_background": "light"
     },
     "output_type": "display_data"
    }
   ],
   "source": [
    "# users registered in weekend tends to do more churns\n",
    "reg_weekday_churn = df_cleaned.groupBy(df_cleaned.reg_weekday).sum('churn').orderBy('reg_weekday').toPandas()\n",
    "reg_weekday_churn = reg_weekday_churn.set_index('reg_weekday')\n",
    "reg_weekday_churn.plot(kind='bar')\n",
    "\n",
    "# but users tend to do less churns at weekend\n",
    "log_weekday_churn = df_cleaned.groupBy(df_cleaned.log_weekday).sum('churn').orderBy('log_weekday').toPandas()\n",
    "log_weekday_churn = log_weekday_churn.set_index('log_weekday')\n",
    "log_weekday_churn.plot(kind='bar')"
   ]
  },
  {
   "cell_type": "code",
   "execution_count": 273,
   "metadata": {},
   "outputs": [
    {
     "data": {
      "text/plain": [
       "<matplotlib.axes._subplots.AxesSubplot at 0x7f0e58c796d8>"
      ]
     },
     "execution_count": 273,
     "metadata": {},
     "output_type": "execute_result"
    },
    {
     "data": {
      "image/png": "[encoded data removed]",
      "text/plain": [
       "<matplotlib.figure.Figure at 0x7f0e57a7a4a8>"
      ]
     },
     "metadata": {
      "needs_background": "light"
     },
     "output_type": "display_data"
    },
    {
     "data": {
      "image/png": "[encoded data removed]",
      "text/plain": [
       "<matplotlib.figure.Figure at 0x7f0e58c0c2e8>"
      ]
     },
     "metadata": {
      "needs_background": "light"
     },
     "output_type": "display_data"
    }
   ],
   "source": [
    "# users registered in September more likely to churn\n",
    "reg_month_churn = df_cleaned.groupBy('reg_month').sum('churn').orderBy('reg_month').toPandas()\n",
    "reg_month_churn = reg_month_churn.set_index('reg_month')\n",
    "reg_month_churn.plot(kind='bar')\n",
    "\n",
    "# users tends to do no churn in December\n",
    "log_month_churn = df_cleaned.groupBy('log_month').sum('churn').orderBy('log_month').toPandas()\n",
    "log_month_churn = log_month_churn.set_index('log_month')\n",
    "log_month_churn.plot(kind='bar')"
   ]
  },
  {
   "cell_type": "code",
   "execution_count": 274,
   "metadata": {},
   "outputs": [
    {
     "data": {
      "text/plain": [
       "<matplotlib.axes._subplots.AxesSubplot at 0x7f0e59155b00>"
      ]
     },
     "execution_count": 274,
     "metadata": {},
     "output_type": "execute_result"
    },
    {
     "data": {
      "image/png": "[encoded data removed]",
      "text/plain": [
       "<matplotlib.figure.Figure at 0x7f0e58b05d68>"
      ]
     },
     "metadata": {
      "needs_background": "light"
     },
     "output_type": "display_data"
    },
    {
     "data": {
      "image/png": "[encoded data removed]",
      "text/plain": [
       "<matplotlib.figure.Figure at 0x7f0e59746f98>"
      ]
     },
     "metadata": {
      "needs_background": "light"
     },
     "output_type": "display_data"
    }
   ],
   "source": [
    "# thers' no obvious relation between registration hour and churn\n",
    "reg_hour_churn = df_cleaned.groupBy(df_cleaned.reg_hour).sum('churn').orderBy('reg_hour').toPandas()\n",
    "reg_hour_churn = reg_hour_churn.set_index('reg_hour')\n",
    "reg_hour_churn.plot(kind='bar')\n",
    "\n",
    "# users tend to churn from 12 p.m to 0 a.m\n",
    "log_hour_churn = df_cleaned.groupBy(df_cleaned.log_hour).sum('churn').orderBy('log_hour').toPandas()\n",
    "log_hour_churn = log_hour_churn.set_index('log_hour')\n",
    "log_hour_churn.plot(kind='bar')"
   ]
  },
  {
   "cell_type": "code",
   "execution_count": 275,
   "metadata": {},
   "outputs": [
    {
     "data": {
      "text/plain": [
       "<matplotlib.axes._subplots.AxesSubplot at 0x7f0e59b6bdd8>"
      ]
     },
     "execution_count": 275,
     "metadata": {},
     "output_type": "execute_result"
    },
    {
     "data": {
      "image/png": "[encoded data removed]",
      "text/plain": [
       "<matplotlib.figure.Figure at 0x7f0e58ad2080>"
      ]
     },
     "metadata": {
      "needs_background": "light"
     },
     "output_type": "display_data"
    }
   ],
   "source": [
    "# some areas are more likely to churn \n",
    "area_churn = df_cleaned.groupBy(df_cleaned.area).sum('churn').orderBy(F.desc('sum(churn)')).limit(10).toPandas()\n",
    "area_churn = area_churn.set_index('area')\n",
    "area_churn.plot(kind='bar')"
   ]
  },
  {
   "cell_type": "code",
   "execution_count": 276,
   "metadata": {},
   "outputs": [
    {
     "data": {
      "text/plain": [
       "<matplotlib.axes._subplots.AxesSubplot at 0x7f0e56d26978>"
      ]
     },
     "execution_count": 276,
     "metadata": {},
     "output_type": "execute_result"
    },
    {
     "data": {
      "image/png": "[encoded data removed]",
      "text/plain": [
       "<matplotlib.figure.Figure at 0x7f0e58fa29e8>"
      ]
     },
     "metadata": {
      "needs_background": "light"
     },
     "output_type": "display_data"
    }
   ],
   "source": [
    "# of course paid users are likely to churn\n",
    "level_churn = df_cleaned.groupBy(df_cleaned.level).sum('churn').orderBy(F.desc('sum(churn)')).toPandas()\n",
    "level_churn = level_churn.set_index('level')\n",
    "level_churn.plot(kind='bar')"
   ]
  },
  {
   "cell_type": "code",
   "execution_count": 277,
   "metadata": {},
   "outputs": [
    {
     "name": "stdout",
     "output_type": "stream",
     "text": [
      "+-----+-----------------+\n",
      "|churn|   sum(avg_songs)|\n",
      "+-----+-----------------+\n",
      "|    1|53151.92663357414|\n",
      "|    0|6690845.435682899|\n",
      "+-----+-----------------+\n",
      "\n"
     ]
    }
   ],
   "source": [
    "# if page == 'Home' mark 1\n",
    "mark_home = F.udf(lambda ishome : int(ishome == 'Home'), IntegerType())\n",
    "\n",
    "# window for accumulate sum of homevisit field\n",
    "user_window = Window \\\n",
    "    .partitionBy('userId') \\\n",
    "    .orderBy(desc('ts')) \\\n",
    "    .rangeBetween(Window.unboundedPreceding, 0)\n",
    "\n",
    "# mark every home visit interval as a 'period'\n",
    "cusum = df_cleaned.filter((df_cleaned.page == 'NextSong') | (df_cleaned.page == 'Home')) \\\n",
    "    .select('userId', 'page', 'ts') \\\n",
    "    .withColumn('homevisit', mark_home('page')) \\\n",
    "    .withColumn('period', F.sum('homevisit').over(user_window))\n",
    "\n",
    "# calculate average songs listened between periods\n",
    "avg_songs_between_home = cusum.filter((cusum.page == 'NextSong')) \\\n",
    "    .groupBy('userId', 'period') \\\n",
    "    .agg({'period':'count'}).groupBy('userId').avg('count(period)')\n",
    "\n",
    "# join back to df_cleaned\n",
    "df_cleaned = df_cleaned.join(avg_songs_between_home, 'userId').withColumnRenamed('avg(count(period))', 'avg_songs')\n",
    "# df_cleaned.show()\n"
   ]
  },
  {
   "cell_type": "code",
   "execution_count": 279,
   "metadata": {},
   "outputs": [
    {
     "data": {
      "text/plain": [
       "<matplotlib.axes._subplots.AxesSubplot at 0x7f0e57ec2dd8>"
      ]
     },
     "execution_count": 279,
     "metadata": {},
     "output_type": "execute_result"
    },
    {
     "data": {
      "image/png": "[encoded data removed]",
      "text/plain": [
       "<matplotlib.figure.Figure at 0x7f0e56f85eb8>"
      ]
     },
     "metadata": {
      "needs_background": "light"
     },
     "output_type": "display_data"
    }
   ],
   "source": [
    "# users who churned tend to listen much less songs than others\n",
    "avg_songs_churn = df_cleaned.groupBy(df_cleaned.churn).sum('avg_songs').toPandas()\n",
    "avg_songs_churn = avg_songs_churn.set_index('churn')\n",
    "avg_songs_churn.plot(kind='bar')"
   ]
  },
  {
   "cell_type": "markdown",
   "metadata": {},
   "source": [
    "# Feature Engineering\n",
    "Once you've familiarized yourself with the data, build out the features you find promising to train your model on. To work with the full dataset, you can follow the following steps.\n",
    "- Write a script to extract the necessary features from the smaller subset of data\n",
    "- Ensure that your script is scalable, using the best practices discussed in Lesson 3\n",
    "- Try your script on the full data set, debugging your script if necessary\n",
    "\n",
    "If you are working in the classroom workspace, you can just extract features based on the small subset of data contained here. Be sure to transfer over this work to the larger dataset when you work on your Spark cluster."
   ]
  },
  {
   "cell_type": "code",
   "execution_count": null,
   "metadata": {},
   "outputs": [],
   "source": []
  },
  {
   "cell_type": "markdown",
   "metadata": {},
   "source": [
    "# Modeling\n",
    "Split the full dataset into train, test, and validation sets. Test out several of the machine learning methods you learned. Evaluate the accuracy of the various models, tuning parameters as necessary. Determine your winning model based on test accuracy and report results on the validation set. Since the churned users are a fairly small subset, I suggest using F1 score as the metric to optimize."
   ]
  },
  {
   "cell_type": "code",
   "execution_count": null,
   "metadata": {},
   "outputs": [],
   "source": []
  },
  {
   "cell_type": "markdown",
   "metadata": {},
   "source": [
    "# Final Steps\n",
    "Clean up your code, adding comments and renaming variables to make the code easier to read and maintain. Refer to the Spark Project Overview page and Data Scientist Capstone Project Rubric to make sure you are including all components of the capstone project and meet all expectations. Remember, this includes thorough documentation in a README file in a Github repository, as well as a web app or blog post."
   ]
  },
  {
   "cell_type": "code",
   "execution_count": null,
   "metadata": {},
   "outputs": [],
   "source": []
  }
 ],
 "metadata": {
  "kernelspec": {
   "display_name": "Python 3",
   "language": "python",
   "name": "python3"
  },
  "language_info": {
   "codemirror_mode": {
    "name": "ipython",
    "version": 3
   },
   "file_extension": ".py",
   "mimetype": "text/x-python",
   "name": "python",
   "nbconvert_exporter": "python",
   "pygments_lexer": "ipython3",
   "version": "3.6.3"
  }
 },
 "nbformat": 4,
 "nbformat_minor": 2
}
